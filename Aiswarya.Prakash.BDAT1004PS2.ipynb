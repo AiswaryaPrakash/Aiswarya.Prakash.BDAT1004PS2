{
 "cells": [
  {
   "cell_type": "markdown",
   "id": "0e0f7f4f",
   "metadata": {},
   "source": [
    "# QUESTION : 1\n",
    "\n",
    "a = 0\n",
    "def b():\n",
    " global a\n",
    " a = c(a)\n",
    "def c(a):\n",
    " return a + 2\n",
    "After importing the module into the interpreter, you execute:\n",
    ">>> b()\n",
    ">>> b()\n",
    ">>> b()\n",
    ">>> a\n",
    "?\n",
    "What value is displayed when the last expression (a) is evaluated? Explain your\n",
    "answer by indicating what happens in every executed statement."
   ]
  },
  {
   "cell_type": "code",
   "execution_count": 11,
   "id": "0aad9e12",
   "metadata": {},
   "outputs": [
    {
     "data": {
      "text/plain": [
       "6"
      ]
     },
     "execution_count": 11,
     "metadata": {},
     "output_type": "execute_result"
    }
   ],
   "source": [
    "a = 0          \n",
    "def b():       \n",
    "    global a      \n",
    "    a = c(a)      \n",
    "def c(a):      \n",
    "    return a + 2  \n",
    "b()\n",
    "b()\n",
    "b()\n",
    "a"
   ]
  },
  {
   "cell_type": "markdown",
   "id": "fe279525",
   "metadata": {},
   "source": [
    "Value is displayed as 6 when the last expression a is evaluated. When we execute b() for the first time, a takes the value as specified in function c. In function c value becomes 2 and  that value is transferred to function b and in function b, a = 2.\n",
    "When we execute b() for the second time, in the function c value becomes 4 and value is transferred to function b and in function b, a = 4. Similarly when we execute b() for the third time, in the function c value becomes 6 and then the value is transferred to function b and in function b, a = 6. In the end when we execute a then the value of a is 6 and is displayed as output. "
   ]
  },
  {
   "cell_type": "markdown",
   "id": "8133e0fb",
   "metadata": {},
   "source": [
    "# QUESTION : 2\n",
    "\n",
    "Function fileLength(), given to you, takes the name of a file as input and returns\n",
    "the length of the file:\n",
    ">>> fileLength('midterm.py')\n",
    "284\n",
    ">>> fileLength('idterm.py')\n",
    "Traceback (most recent call last):\n",
    "File \"<pyshell#34>\", line 1, in <module>\n",
    " fileLength('idterm.py')\n",
    " File \"/Users/me/midterm.py\", line 3, in fileLength\n",
    " infile = open(filename)\n",
    " FileNotFoundError: [Errno 2] No such file or directory:\n",
    "'idterm.py'\n",
    " As shown above, if the file cannot be found by the interpreter or if it cannot be read\n",
    " as a text file, an exception will be raised. Modify function fileLength() so that a\n",
    " friendly message is printed instead:\n",
    ">>> fileLength('midterm.py')\n",
    "    358\n",
    ">>> fileLength('idterm.py')\n",
    "    File idterm.py not found."
   ]
  },
  {
   "cell_type": "code",
   "execution_count": 18,
   "id": "34d1376c",
   "metadata": {},
   "outputs": [
    {
     "name": "stdout",
     "output_type": "stream",
     "text": [
      "123\n",
      "File idterm.py not found\n"
     ]
    }
   ],
   "source": [
    "def Filelength(file_name): # defining a function Filelength() take the name of a file as input and returns the length of file\n",
    "    try:\n",
    "        file = open(file_name) #opening file to read contents\n",
    "        contents = file.read()\n",
    "        file.close()\n",
    "        print(len(contents))\n",
    "    except FileNotFoundError as file_error_customized: \n",
    "        print('File {} not found'.format(file_name))  # Printing the error \n",
    "        \n",
    "Filelength('midterm.py')  \n",
    "Filelength('idterm.py')"
   ]
  },
  {
   "cell_type": "markdown",
   "id": "d1bfadf7",
   "metadata": {},
   "source": [
    "# Question : 3\n",
    "\n",
    "Write a class named Marsupial that can be used as shown below:\n",
    ">>> m = Marsupial()\n",
    ">>> m.put_in_pouch('doll')\n",
    ">>> m.put_in_pouch('firetruck')\n",
    ">>> m.put_in_pouch('kitten')\n",
    ">>> m.pouch_contents()\n",
    "['doll', 'firetruck', 'kitten']\n",
    "Now write a class named Kangaroo as a subclass of Marsupial that inherits all the\n",
    "attributes of Marsupial and also:\n",
    "a. extends the Marsupial __init__ constructor to take, as input, the\n",
    "coordinates x and y of the Kangaroo object,\n",
    "b. supports method jump that takes number values dx and dy as input and\n",
    "moves the kangaroo by dx units along the x-axis and by dy units along the yaxis, and\n",
    "c. overloads the __str__ operator so it behaves as shown below.\n",
    ">>> k = Kangaroo(0,0)\n",
    ">>> print(k)\n",
    "I am a Kangaroo located at coordinates (0,0)\n",
    ">>> k.put_in_pouch('doll')\n",
    ">>> k.put_in_pouch('firetruck')\n",
    ">>> k.put_in_pouch('kitten')\n",
    ">>> k.pouch_contents()\n",
    "['doll', 'firetruck', 'kitten']\n",
    ">>> k.jump(1,0)\n",
    ">>> k.jump(1,0)\n",
    ">>> k.jump(1,0)\n",
    ">>> print(k)\n",
    "I am a Kangaroo located at coordinates (3,0)"
   ]
  },
  {
   "cell_type": "code",
   "execution_count": 24,
   "id": "8ba020e0",
   "metadata": {},
   "outputs": [
    {
     "name": "stdout",
     "output_type": "stream",
     "text": [
      "['doll', 'firetruck', 'kitten']\n"
     ]
    }
   ],
   "source": [
    "class Marsupial:\n",
    "    def __init__(self):\n",
    "        self.pouch=[];\n",
    "    def put_in_pouch(self,item):\n",
    "        self.pouch.append(item)\n",
    "    def pouch_contents(self):\n",
    "        print(self.pouch)\n",
    "\n",
    "m=Marsupial()\n",
    "m.put_in_pouch('doll')\n",
    "m.put_in_pouch('firetruck')\n",
    "m.put_in_pouch('kitten')\n",
    "m.pouch_contents()"
   ]
  },
  {
   "cell_type": "code",
   "execution_count": 28,
   "id": "89d0c50a",
   "metadata": {},
   "outputs": [
    {
     "name": "stdout",
     "output_type": "stream",
     "text": [
      "I am a Kangaroo located at coordinates (0,0)\n",
      "['doll', 'firetruck', 'kitten']\n",
      "I am a Kangaroo located at coordinates (3,0)\n"
     ]
    }
   ],
   "source": [
    "class Kangaroo(Marsupial):\n",
    "    def __init__(self,xcoord, ycoord):\n",
    "        self.x=xcoord\n",
    "        self.y=ycoord\n",
    "        Marsupial.__init__(self)\n",
    "    def __repr__(self):\n",
    "        return 'I am a Kangaroo located at coordinates ({},{})'.format(self.x, self.y)\n",
    "    def jump(self,xcoord,ycoord):\n",
    "        self.x+=xcoord\n",
    "        self.y+=ycoord\n",
    "\n",
    "#Calling a function      \n",
    "k = Kangaroo(0,0)\n",
    "print(k)\n",
    "k.put_in_pouch('doll')\n",
    "k.put_in_pouch('firetruck')\n",
    "k.put_in_pouch('kitten')\n",
    "k.pouch_contents()\n",
    "k.jump(1,0)\n",
    "k.jump(1,0)\n",
    "k.jump(1,0)\n",
    "print(k)"
   ]
  },
  {
   "cell_type": "markdown",
   "id": "423e3163",
   "metadata": {},
   "source": [
    "# Question : 4\n",
    "\n",
    "Write function collatz() that takes a positive integer x as input and prints the\n",
    "Collatz sequence starting at x. A Collatz sequence is obtained by repeatedly applying\n",
    "this rule to the previous number x in the sequence:\n",
    "x = {\n",
    "𝑥/2 𝑖𝑓 𝑥 𝑖𝑠 𝑒𝑣𝑒𝑛\n",
    "3𝑥 + 1 𝑖𝑓 𝑥 𝑖𝑠 𝑜𝑑𝑑\n",
    "Your function should stop when the sequence gets to number 1. Your\n",
    "implementation must be recursive, without any loops.\n",
    "    "
   ]
  },
  {
   "cell_type": "code",
   "execution_count": 19,
   "id": "0e7d896d",
   "metadata": {},
   "outputs": [
    {
     "name": "stdout",
     "output_type": "stream",
     "text": [
      "1\n"
     ]
    }
   ],
   "source": [
    "def collatz(n):\n",
    "    print(n)\n",
    "    if(n==1):\n",
    "        return\n",
    "    if(n%2==0):\n",
    "        collatz((int)(n/2))\n",
    "    else:\n",
    "        collatz(3*n+1) \n",
    "        \n",
    "collatz(1)"
   ]
  },
  {
   "cell_type": "code",
   "execution_count": 20,
   "id": "c2abf2ae",
   "metadata": {},
   "outputs": [
    {
     "name": "stdout",
     "output_type": "stream",
     "text": [
      "10\n",
      "5\n",
      "16\n",
      "8\n",
      "4\n",
      "2\n",
      "1\n"
     ]
    }
   ],
   "source": [
    "collatz(10)"
   ]
  },
  {
   "cell_type": "markdown",
   "id": "24fde862",
   "metadata": {},
   "source": [
    "# Question : 5\n",
    "\n",
    "Write a recursive method binary() that takes a non-negative\n",
    "integer n and prints the binary representation of integer n.\n",
    ">>> binary(0)\n",
    "0\n",
    ">>> binary(1)\n",
    "1\n",
    ">>> binary(3)\n",
    "11\n",
    ">>> binary(9)\n",
    "1001\n",
    "\n",
    "\n"
   ]
  },
  {
   "cell_type": "code",
   "execution_count": 21,
   "id": "77511fe1",
   "metadata": {},
   "outputs": [
    {
     "data": {
      "text/plain": [
       "0"
      ]
     },
     "execution_count": 21,
     "metadata": {},
     "output_type": "execute_result"
    }
   ],
   "source": [
    "def binary(n):\n",
    "    if(n>0):\n",
    "        binary((int)(n/2))\n",
    "        print(n%2)\n",
    "    else:\n",
    "        return 0\n",
    "    \n",
    "binary(0)    "
   ]
  },
  {
   "cell_type": "code",
   "execution_count": 35,
   "id": "db38da7c",
   "metadata": {},
   "outputs": [
    {
     "name": "stdout",
     "output_type": "stream",
     "text": [
      "1\n"
     ]
    }
   ],
   "source": [
    "binary(1)"
   ]
  },
  {
   "cell_type": "code",
   "execution_count": 36,
   "id": "de2460a8",
   "metadata": {},
   "outputs": [
    {
     "name": "stdout",
     "output_type": "stream",
     "text": [
      "1\n",
      "1\n"
     ]
    }
   ],
   "source": [
    "binary(3)"
   ]
  },
  {
   "cell_type": "code",
   "execution_count": 37,
   "id": "cfcc8d59",
   "metadata": {},
   "outputs": [
    {
     "name": "stdout",
     "output_type": "stream",
     "text": [
      "1\n",
      "0\n",
      "0\n",
      "1\n"
     ]
    }
   ],
   "source": [
    "binary(9)"
   ]
  },
  {
   "cell_type": "markdown",
   "id": "98447731",
   "metadata": {},
   "source": [
    "# Question : 6\n",
    "\n",
    "Implement a class named HeadingParser that can be used to parse an HTML document, and retrieve and print all the headings in the document. You should implement your class as a subclass of HTMLParser, defined in Standard Library module html.parser. When fed a string containing HTML code, your class should print the headings, one per line and in the order in which they appear in the document. Each heading should be indented as follows: an h1 heading should have indentation 0, and h2 heading should have indentation 1, etc. Test your\n",
    "implementation using w3c.html.\n",
    ">>> infile = open('w3c.html')\n",
    ">>> content = infile.read()\n",
    ">>> infile.close()\n",
    ">>> hp = HeadingParser()\n",
    ">>> hp.feed(content)\n",
    "W3C Mission\n",
    "Principles"
   ]
  },
  {
   "cell_type": "code",
   "execution_count": 38,
   "id": "7e119682",
   "metadata": {},
   "outputs": [
    {
     "name": "stdout",
     "output_type": "stream",
     "text": [
      " W3C Mission\n",
      " \n",
      "\n",
      "  Principles\n",
      "  \n",
      "\n"
     ]
    }
   ],
   "source": [
    "from html.parser import HTMLParser\n",
    "\n",
    "class HeadingParser(HTMLParser):\n",
    "    tag1 = \"\"\n",
    "    \n",
    "    def handle_starttag(self, tag, arrgs):\n",
    "        global tag1\n",
    "        tag1=tag\n",
    "                \n",
    "    def handle_data(self, data):\n",
    "        global tag1\n",
    "        if(tag1 == \"h1\"):\n",
    "            print(\" \"+data)\n",
    "        elif(tag1 == \"h2\"):\n",
    "            print(\"  \"+data)\n",
    "            \n",
    "infile = open(\"w3c.html\") \n",
    "content = infile.read() \n",
    "infile.close() \n",
    "hp = HeadingParser()\n",
    "hp.feed(content)"
   ]
  },
  {
   "cell_type": "markdown",
   "id": "d863c65a",
   "metadata": {},
   "source": [
    "# Question : 7\n",
    "    \n",
    "Implement recursive function webdir() that takes as input: a URL (as a string) and\n",
    "non-negative integers depth and indent. Your function should visit every web\n",
    "page reachable from the starting URL web page in depth clicks or less, and print\n",
    "each web page's URL. As shown below, indentation, specified by indent, should\n",
    "be used to indicate the depth of a URL.\n",
    ">>>\n",
    "webdir('http://reed.cs.depaul.edu/lperkovic/csc242/test1.html'\n",
    ", 2, 0)\n",
    "http://reed.cs.depaul.edu/lperkovic/csc242/test1.html\n",
    " http://reed.cs.depaul.edu/lperkovic/csc242/test2.html\n",
    " http://reed.cs.depaul.edu/lperkovic/csc242/test4.html\n",
    " http://reed.cs.depaul.edu/lperkovic/csc242/test3.html\n",
    " http://reed.cs.depaul.edu/lperkovic/csc242/test4.html    "
   ]
  },
  {
   "cell_type": "code",
   "execution_count": 23,
   "id": "50011bf6",
   "metadata": {},
   "outputs": [
    {
     "name": "stdout",
     "output_type": "stream",
     "text": [
      " http://reed.cs.depaul.edu/lperkovic/test1.html\n",
      "         http://reed.cs.depaul.edu/lperkovic/test2.html\n",
      "                 http://reed.cs.depaul.edu/lperkovic/test4.html\n",
      "         http://reed.cs.depaul.edu/lperkovic/test3.html\n",
      "                 http://reed.cs.depaul.edu/lperkovic/test4.html\n"
     ]
    }
   ],
   "source": [
    "from html.parser import HTMLParser    \n",
    "from urllib.request import urlopen\n",
    "from urllib.parse import urljoin\n",
    "\n",
    "class Web(HTMLParser):\n",
    "    \n",
    "\n",
    "    def __init__(self, url): \n",
    "        HTMLParser.__init__(self)\n",
    "        self.url = url\n",
    "        self.links = []\n",
    "\n",
    "\n",
    "    def append(self):\n",
    "        \n",
    "        return self.links\n",
    "\n",
    "\n",
    "\n",
    "\n",
    "    def handle_starttag(self, tag, attributes): #function to collect hyperlinks\n",
    "        for attr in attributes:\n",
    "            attrs = urljoin(self.url, attr[1])\n",
    "            if attrs[:4] == 'http': \n",
    "                self.links.append(attrs)\n",
    "j = 0\n",
    "def webdir(url, depth, j):\n",
    "   \n",
    "\n",
    "    depth = depth - 1    \n",
    "    print(j*'  ', url)         \n",
    "\n",
    "    objective = urlopen(url).read().decode()\n",
    "    collection = Web(url)\n",
    "    collection.feed(objective)\n",
    "    urls = collection.append() \n",
    " \n",
    "    links = urls\n",
    "    j = j + 4\n",
    "\n",
    "\n",
    "    for link in links:\n",
    "        if j < 0 or depth < 0:\n",
    "            return 1\n",
    "        else:\n",
    "            webdir(link, depth, j)\n",
    "            \n",
    "webdir('http://reed.cs.depaul.edu/lperkovic/test1.html', 2, 0)"
   ]
  },
  {
   "cell_type": "markdown",
   "id": "9e655b07",
   "metadata": {},
   "source": [
    "# Question 8\n",
    "Write SQL queries on the below database table that return:\n",
    "a) All the temperature data.\n",
    "b) All the cities, but without repetition.\n",
    "c) All the records for India.\n",
    "d) All the Fall records.\n",
    "e) The city, country, and season for which the average rainfall is between 200\n",
    "and 400 millimeters.\n",
    "f) The city and country for which the average Fall temperature is above 20\n",
    "degrees, in increasing temperature order.\n",
    "g) The total annual rainfall for Cairo.\n",
    "h) The total rainfall for each season.\n"
   ]
  },
  {
   "cell_type": "code",
   "execution_count": 4,
   "id": "2030ce21",
   "metadata": {},
   "outputs": [
    {
     "name": "stdout",
     "output_type": "stream",
     "text": [
      "Requirement already satisfied: ipython-sql in c:\\users\\aiswarya\\anaconda3\\lib\\site-packages (0.4.0)\n",
      "Requirement already satisfied: ipython>=1.0 in c:\\users\\aiswarya\\anaconda3\\lib\\site-packages (from ipython-sql) (7.29.0)\n",
      "Requirement already satisfied: sqlalchemy>=0.6.7 in c:\\users\\aiswarya\\anaconda3\\lib\\site-packages (from ipython-sql) (1.4.22)\n",
      "Requirement already satisfied: sqlparse in c:\\users\\aiswarya\\anaconda3\\lib\\site-packages (from ipython-sql) (0.4.2)\n",
      "Requirement already satisfied: ipython-genutils>=0.1.0 in c:\\users\\aiswarya\\anaconda3\\lib\\site-packages (from ipython-sql) (0.2.0)\n",
      "Requirement already satisfied: six in c:\\users\\aiswarya\\anaconda3\\lib\\site-packages (from ipython-sql) (1.16.0)\n",
      "Requirement already satisfied: prettytable<1 in c:\\users\\aiswarya\\anaconda3\\lib\\site-packages (from ipython-sql) (0.7.2)\n",
      "Requirement already satisfied: matplotlib-inline in c:\\users\\aiswarya\\anaconda3\\lib\\site-packages (from ipython>=1.0->ipython-sql) (0.1.2)\n",
      "Requirement already satisfied: backcall in c:\\users\\aiswarya\\anaconda3\\lib\\site-packages (from ipython>=1.0->ipython-sql) (0.2.0)\n",
      "Requirement already satisfied: colorama in c:\\users\\aiswarya\\anaconda3\\lib\\site-packages (from ipython>=1.0->ipython-sql) (0.4.4)\n",
      "Requirement already satisfied: decorator in c:\\users\\aiswarya\\anaconda3\\lib\\site-packages (from ipython>=1.0->ipython-sql) (5.1.0)\n",
      "Requirement already satisfied: pickleshare in c:\\users\\aiswarya\\anaconda3\\lib\\site-packages (from ipython>=1.0->ipython-sql) (0.7.5)\n",
      "Requirement already satisfied: traitlets>=4.2 in c:\\users\\aiswarya\\anaconda3\\lib\\site-packages (from ipython>=1.0->ipython-sql) (5.1.0)\n",
      "Requirement already satisfied: setuptools>=18.5 in c:\\users\\aiswarya\\anaconda3\\lib\\site-packages (from ipython>=1.0->ipython-sql) (58.0.4)\n",
      "Requirement already satisfied: prompt-toolkit!=3.0.0,!=3.0.1,<3.1.0,>=2.0.0 in c:\\users\\aiswarya\\anaconda3\\lib\\site-packages (from ipython>=1.0->ipython-sql) (3.0.20)\n",
      "Requirement already satisfied: jedi>=0.16 in c:\\users\\aiswarya\\anaconda3\\lib\\site-packages (from ipython>=1.0->ipython-sql) (0.18.0)\n",
      "Requirement already satisfied: pygments in c:\\users\\aiswarya\\anaconda3\\lib\\site-packages (from ipython>=1.0->ipython-sql) (2.10.0)\n",
      "Requirement already satisfied: parso<0.9.0,>=0.8.0 in c:\\users\\aiswarya\\anaconda3\\lib\\site-packages (from jedi>=0.16->ipython>=1.0->ipython-sql) (0.8.2)\n",
      "Requirement already satisfied: wcwidth in c:\\users\\aiswarya\\anaconda3\\lib\\site-packages (from prompt-toolkit!=3.0.0,!=3.0.1,<3.1.0,>=2.0.0->ipython>=1.0->ipython-sql) (0.2.5)\n",
      "Requirement already satisfied: greenlet!=0.4.17 in c:\\users\\aiswarya\\anaconda3\\lib\\site-packages (from sqlalchemy>=0.6.7->ipython-sql) (1.1.1)\n"
     ]
    }
   ],
   "source": [
    "!pip install ipython-sql"
   ]
  },
  {
   "cell_type": "code",
   "execution_count": 7,
   "id": "606e1733",
   "metadata": {},
   "outputs": [
    {
     "data": {
      "text/plain": [
       "<sqlite3.Cursor at 0x1cb23e19c70>"
      ]
     },
     "execution_count": 7,
     "metadata": {},
     "output_type": "execute_result"
    }
   ],
   "source": [
    "import sqlite3\n",
    "conn = sqlite3.connect(\"problemsettwo.db\")\n",
    "sql=conn.cursor()\n",
    "sql.execute(\"Create table Temp(City TEXT,Country TEXT,Season TEXT,Temperature REAL,Rainfall REAL)\")\n",
    "sql.execute(\"INSERT INTO Temp VALUES('Mumbai','India','Winter',24.8,5.9)\")\n",
    "sql.execute(\"INSERT INTO Temp VALUES('Mumbai','India','Spring',28.4,16.2)\")\n",
    "sql.execute(\"INSERT INTO Temp VALUES('Mumbai','India','Summer',27.9,1549.4)\")\n",
    "sql.execute(\"INSERT INTO Temp VALUES('Mumbai','India','Fall',27.6,346.0)\")\n",
    "sql.execute(\"INSERT INTO Temp VALUES('London','United Kingdom','Winter',4.2,207.7)\")\n",
    "sql.execute(\"INSERT INTO Temp VALUES('London','United Kingdom','Spring',8.3,169.6)\")\n",
    "sql.execute(\"INSERT INTO Temp VALUES('London','United Kingdom','Summer',15.7,157.0)\")\n",
    "sql.execute(\"INSERT INTO Temp VALUES('London','United Kingdom','Fall',10.4,218.5)\")\n",
    "sql.execute(\"INSERT INTO Temp VALUES('Cairo','Egypt','Winter',13.6,16.5)\")\n",
    "sql.execute(\"INSERT INTO Temp VALUES('Cairo','Egypt','Spring',20.7,6.5)\")\n",
    "sql.execute(\"INSERT INTO Temp VALUES('Cairo','Egypt','Summer',27.7,0.1)\")\n",
    "sql.execute(\"INSERT INTO Temp VALUES('Cairo','Egypt','Fall',22.2,4.5)\")"
   ]
  },
  {
   "cell_type": "markdown",
   "id": "e5492f0a",
   "metadata": {},
   "source": [
    "a) All the temperature data"
   ]
  },
  {
   "cell_type": "code",
   "execution_count": 24,
   "id": "ff40177c",
   "metadata": {},
   "outputs": [
    {
     "name": "stdout",
     "output_type": "stream",
     "text": [
      "(24.8,)\n",
      "(28.4,)\n",
      "(27.9,)\n",
      "(27.6,)\n",
      "(4.2,)\n",
      "(8.3,)\n",
      "(15.7,)\n",
      "(10.4,)\n",
      "(13.6,)\n",
      "(20.7,)\n",
      "(27.7,)\n",
      "(22.2,)\n"
     ]
    }
   ],
   "source": [
    "sql.execute(\"SELECT Temperature FROM Temp\")\n",
    "temperature=sql.fetchall()\n",
    "for i in temperature:\n",
    "    print(i)"
   ]
  },
  {
   "cell_type": "markdown",
   "id": "347b4107",
   "metadata": {},
   "source": [
    "b) All the cities, but without repetition."
   ]
  },
  {
   "cell_type": "code",
   "execution_count": 9,
   "id": "6aeff77e",
   "metadata": {},
   "outputs": [
    {
     "name": "stdout",
     "output_type": "stream",
     "text": [
      "('Mumbai',)\n",
      "('London',)\n",
      "('Cairo',)\n"
     ]
    }
   ],
   "source": [
    "sql.execute(\"SELECT DISTINCT City FROM Temp\")\n",
    "City=sql.fetchall()\n",
    "for i in City:\n",
    "    print(i)"
   ]
  },
  {
   "cell_type": "markdown",
   "id": "8cc2083d",
   "metadata": {},
   "source": [
    "c) All the records for India"
   ]
  },
  {
   "cell_type": "code",
   "execution_count": 10,
   "id": "b110f8e4",
   "metadata": {},
   "outputs": [
    {
     "name": "stdout",
     "output_type": "stream",
     "text": [
      "('Mumbai', 'India', 'Winter', 24.8, 5.9)\n",
      "('Mumbai', 'India', 'Spring', 28.4, 16.2)\n",
      "('Mumbai', 'India', 'Summer', 27.9, 1549.4)\n",
      "('Mumbai', 'India', 'Fall', 27.6, 346.0)\n"
     ]
    }
   ],
   "source": [
    "sql.execute(\"SELECT * FROM Temp WHERE Country=='India'\")\n",
    "India=sql.fetchall()\n",
    "for i in India:\n",
    "    print(i)"
   ]
  },
  {
   "cell_type": "markdown",
   "id": "24d73f0a",
   "metadata": {},
   "source": [
    "d)All the Fall records"
   ]
  },
  {
   "cell_type": "code",
   "execution_count": 11,
   "id": "a8d83f42",
   "metadata": {},
   "outputs": [
    {
     "name": "stdout",
     "output_type": "stream",
     "text": [
      "('Mumbai', 'India', 'Fall', 27.6, 346.0)\n",
      "('London', 'United Kingdom', 'Fall', 10.4, 218.5)\n",
      "('Cairo', 'Egypt', 'Fall', 22.2, 4.5)\n"
     ]
    }
   ],
   "source": [
    "sql.execute(\"SELECT * FROM Temp WHERE Season=='Fall'\")\n",
    "Fall=sql.fetchall()\n",
    "for i in Fall:\n",
    "    print(i)"
   ]
  },
  {
   "cell_type": "markdown",
   "id": "347bb81d",
   "metadata": {},
   "source": [
    "e) The city, country, and season for which the average rainfall is between 200 and 400 millimeters."
   ]
  },
  {
   "cell_type": "code",
   "execution_count": 12,
   "id": "4be279c1",
   "metadata": {},
   "outputs": [
    {
     "name": "stdout",
     "output_type": "stream",
     "text": [
      "('Mumbai', 'India', 'Fall')\n",
      "('London', 'United Kingdom', 'Winter')\n",
      "('London', 'United Kingdom', 'Fall')\n"
     ]
    }
   ],
   "source": [
    "sql.execute(\"SELECT City,Country,Season FROM Temp WHERE Rainfall BETWEEN 200 AND 400\")\n",
    "Avg=sql.fetchall()\n",
    "for i in Avg:\n",
    "    print(i)"
   ]
  },
  {
   "cell_type": "markdown",
   "id": "85b6b2ce",
   "metadata": {},
   "source": [
    "f) The city and country for which the average Fall temperature is above 20 degrees, in increasing temperature order."
   ]
  },
  {
   "cell_type": "code",
   "execution_count": 13,
   "id": "6df99f7b",
   "metadata": {},
   "outputs": [
    {
     "name": "stdout",
     "output_type": "stream",
     "text": [
      "('Cairo', 'Egypt', 22.2)\n",
      "('Mumbai', 'India', 27.6)\n"
     ]
    }
   ],
   "source": [
    "sql.execute(\"SELECT city,country,Temperature FROM temp WHERE season=='Fall' AND temperature>20 ORDER BY temperature ASC\")\n",
    "Degree=sql.fetchall()\n",
    "for i in Degree:\n",
    "    print(i)"
   ]
  },
  {
   "cell_type": "markdown",
   "id": "4b15b025",
   "metadata": {},
   "source": [
    "g) The total annual rainfall for Cairo"
   ]
  },
  {
   "cell_type": "code",
   "execution_count": 14,
   "id": "36da26b2",
   "metadata": {},
   "outputs": [
    {
     "name": "stdout",
     "output_type": "stream",
     "text": [
      "(27.6,)\n"
     ]
    }
   ],
   "source": [
    "sql.execute(\"SELECT SUM(Rainfall) FROM temp WHERE City='Cairo'\")\n",
    "Sum=sql.fetchall()\n",
    "for i in Sum:\n",
    "    print(i)"
   ]
  },
  {
   "cell_type": "markdown",
   "id": "0110b687",
   "metadata": {},
   "source": [
    "h) The total rainfall for each season."
   ]
  },
  {
   "cell_type": "code",
   "execution_count": 15,
   "id": "a2a85373",
   "metadata": {},
   "outputs": [
    {
     "name": "stdout",
     "output_type": "stream",
     "text": [
      "[('Fall', 569.0), ('Spring', 192.29999999999998), ('Summer', 1706.5), ('Winter', 230.1)]\n"
     ]
    }
   ],
   "source": [
    "sql.execute(\"SELECT season,SUM(rainfall) FROM temp GROUP BY season\")\n",
    "Total=sql.fetchall()\n",
    "print(Total)"
   ]
  },
  {
   "cell_type": "markdown",
   "id": "d753ef7d",
   "metadata": {},
   "source": [
    "# Question :  9 \n",
    " \n",
    " Suppose list words is defined as follows:\n",
    ">>> words = ['The', 'quick', 'brown', 'fox', 'jumps', 'over',\n",
    "'the', 'lazy', 'dog']\n",
    "Write list comprehension expressions that use list words and generate the following\n",
    "lists:\n",
    "  a) ['THE', 'QUICK', 'BROWN', 'FOX', 'JUMPS', 'OVER', 'THE',\n",
    "     'LAZY', 'DOG']\n",
    "  b) ['the', 'quick', 'brown', 'fox', 'jumps', 'over', 'the',\n",
    "     'lazy', 'dog']\n",
    "  c) [3, 5, 5, 3, 5, 4, 3, 4, 3] (the list of lengths of words in list\n",
    "     words).\n",
    "  d) [['THE', 'the', 3], ['QUICK', 'quick', 5], ['BROWN',\n",
    "     'brown', 5], ['FOX', 'fox', 3], ['JUMPS', 'jumps', 5],\n",
    "     ['OVER', 'over', 4], ['THE', 'the', 3], ['LAZY', 'lazy',\n",
    "     4], ['DOG', 'dog', 3]] (the list containing a list for every word of list\n",
    "     words, where each list contains the word in uppercase and lowercase and the\n",
    "     length of the word.)\n",
    "  e) ['The', 'quick', 'brown', 'fox', 'jumps', 'over', 'the',\n",
    "     'lazy', 'dog'] (the list of words in list words containing 4 or more\n",
    "     characters.)"
   ]
  },
  {
   "cell_type": "code",
   "execution_count": 16,
   "id": "f2ee09bc",
   "metadata": {},
   "outputs": [
    {
     "name": "stdout",
     "output_type": "stream",
     "text": [
      "['THE', 'QUICK', 'BROWN', 'FOX', 'JUMPS', 'OVER', 'THE', 'LAZY', 'DOG']\n",
      "['the', 'quick', 'brown', 'fox', 'jumps', 'over', 'the', 'lazy', 'dog']\n",
      "[3, 5, 5, 3, 5, 4, 3, 4, 3]\n",
      "[('THE', 'the', 3), ('QUICK', 'quick', 5), ('BROWN', 'brown', 5), ('FOX', 'fox', 3), ('JUMPS', 'jumps', 5), ('OVER', 'over', 4), ('THE', 'the', 3), ('LAZY', 'lazy', 4), ('DOG', 'dog', 3)]\n",
      "['quick', 'brown', 'jumps', 'over', 'lazy']\n"
     ]
    }
   ],
   "source": [
    "words = ['The', 'quick', 'brown', 'fox', 'jumps', 'over','the', 'lazy', 'dog']\n",
    "Upper = [x.upper() for x in words]\n",
    "Lower = [x.lower() for x in words]\n",
    "Length = [len(x) for x in words]\n",
    "Newlist = [(x.upper(),x.lower(),len(x)) for x in words]\n",
    "Four = [x for x in words if len(x) >= 4]\n",
    "\n",
    "print(Upper)\n",
    "print(Lower)\n",
    "print(Length)\n",
    "print(Newlist)\n",
    "print(Four)"
   ]
  },
  {
   "cell_type": "code",
   "execution_count": null,
   "id": "0c89b225",
   "metadata": {},
   "outputs": [],
   "source": []
  }
 ],
 "metadata": {
  "kernelspec": {
   "display_name": "Python 3 (ipykernel)",
   "language": "python",
   "name": "python3"
  },
  "language_info": {
   "codemirror_mode": {
    "name": "ipython",
    "version": 3
   },
   "file_extension": ".py",
   "mimetype": "text/x-python",
   "name": "python",
   "nbconvert_exporter": "python",
   "pygments_lexer": "ipython3",
   "version": "3.9.7"
  }
 },
 "nbformat": 4,
 "nbformat_minor": 5
}
